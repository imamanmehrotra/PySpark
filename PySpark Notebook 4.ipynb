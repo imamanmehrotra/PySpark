{
 "cells": [
  {
   "cell_type": "markdown",
   "metadata": {},
   "source": [
    "# TUTORIAL 4"
   ]
  },
  {
   "cell_type": "markdown",
   "metadata": {},
   "source": [
    "## Various Operations in PySpark DataFrames"
   ]
  },
  {
   "cell_type": "markdown",
   "metadata": {},
   "source": [
    " - Filter Operations\n",
    " - &,|,==\n",
    " - ~ "
   ]
  },
  {
   "cell_type": "code",
   "execution_count": 11,
   "metadata": {},
   "outputs": [],
   "source": [
    "from pyspark.sql import SparkSession\n",
    "from pyspark.sql.functions import col\n",
    "from pyspark.sql import functions as f"
   ]
  },
  {
   "cell_type": "code",
   "execution_count": 3,
   "metadata": {},
   "outputs": [],
   "source": [
    "spark=SparkSession.builder.appName('Training').getOrCreate()"
   ]
  },
  {
   "cell_type": "code",
   "execution_count": 7,
   "metadata": {},
   "outputs": [
    {
     "name": "stdout",
     "output_type": "stream",
     "text": [
      "root\n",
      " |-- TV: double (nullable = true)\n",
      " |-- radio: double (nullable = true)\n",
      " |-- newspaper: double (nullable = true)\n",
      " |-- sales: double (nullable = true)\n",
      "\n"
     ]
    }
   ],
   "source": [
    "df=spark.read.csv('Advertising.csv',header=True,inferSchema=True)\n",
    "df.printSchema()"
   ]
  },
  {
   "cell_type": "code",
   "execution_count": 8,
   "metadata": {},
   "outputs": [
    {
     "name": "stdout",
     "output_type": "stream",
     "text": [
      "+-----+-----+---------+-----+\n",
      "|   TV|radio|newspaper|sales|\n",
      "+-----+-----+---------+-----+\n",
      "|230.1| 37.8|     69.2| 22.1|\n",
      "| 44.5| null|     45.1| 10.4|\n",
      "| 17.2| 45.9|     69.3|  9.3|\n",
      "|151.5| 41.3|     58.5| 18.5|\n",
      "| null| null|     null| 12.9|\n",
      "|  8.7| 48.9|     75.0|  7.2|\n",
      "| 57.5| 32.8|     23.5| 11.8|\n",
      "|120.2| 19.6|     11.6| 13.2|\n",
      "|  8.6|  2.1|      1.0|  4.8|\n",
      "|199.8|  2.6|     21.2| 10.6|\n",
      "| 66.1| null|     null| null|\n",
      "|214.7| 24.0|      4.0| 17.4|\n",
      "| 23.8| 35.1|     65.9|  9.2|\n",
      "| 97.5|  7.6|      7.2|  9.7|\n",
      "| null| 32.9|     46.0| 19.0|\n",
      "|195.4| 47.7|     52.9| 22.4|\n",
      "| 67.8| 36.6|    114.0| 12.5|\n",
      "|281.4| 39.6|     55.8| 24.4|\n",
      "| 69.2| 20.5|     18.3| 11.3|\n",
      "|147.3| null|     19.1| 14.6|\n",
      "+-----+-----+---------+-----+\n",
      "only showing top 20 rows\n",
      "\n"
     ]
    }
   ],
   "source": [
    "df.show()"
   ]
  },
  {
   "cell_type": "code",
   "execution_count": 18,
   "metadata": {},
   "outputs": [
    {
     "name": "stdout",
     "output_type": "stream",
     "text": [
      "+-----+-----+---------+-----+\n",
      "|   TV|radio|newspaper|sales|\n",
      "+-----+-----+---------+-----+\n",
      "|230.1| 37.8|     69.2| 22.1|\n",
      "|214.7| 24.0|      4.0| 17.4|\n",
      "|281.4| 39.6|     55.8| 24.4|\n",
      "|218.4| 27.7|     53.4| 18.0|\n",
      "|237.4|  5.1|     23.5| 12.5|\n",
      "|240.1| 16.7|     22.9| 15.9|\n",
      "|248.8| 27.1|     22.9| 18.9|\n",
      "|292.9| 28.3|     43.2| 21.4|\n",
      "|265.6| 20.0|      0.3| 17.4|\n",
      "|290.7|  4.1|      8.5| 12.8|\n",
      "|266.9| 43.8|      5.0| 25.4|\n",
      "|228.0| 37.7|     32.0| 21.5|\n",
      "|202.5| 22.3|     31.6| 16.6|\n",
      "|293.6| 27.7|     null| 20.7|\n",
      "|206.9|  8.4|     null| 12.9|\n",
      "|239.9| 41.5|     18.5| 23.2|\n",
      "|227.2| 15.8|     49.9| 14.8|\n",
      "|216.4| null|     39.6| null|\n",
      "|262.7| 28.8|     15.9| 20.2|\n",
      "|210.8| 49.6|     37.7| 23.8|\n",
      "+-----+-----+---------+-----+\n",
      "only showing top 20 rows\n",
      "\n"
     ]
    }
   ],
   "source": [
    "#Simple filtration of dataset based on condition\n",
    "\n",
    "df.filter('TV>200').show()"
   ]
  },
  {
   "cell_type": "code",
   "execution_count": 19,
   "metadata": {},
   "outputs": [
    {
     "name": "stdout",
     "output_type": "stream",
     "text": [
      "+-----+-----+---------+-----+------------+\n",
      "|   TV|radio|newspaper|sales|        Type|\n",
      "+-----+-----+---------+-----+------------+\n",
      "|230.1| 37.8|     69.2| 22.1|  Big Agency|\n",
      "| 44.5| null|     45.1| 10.4|Small Agency|\n",
      "| 17.2| 45.9|     69.3|  9.3|Small Agency|\n",
      "|151.5| 41.3|     58.5| 18.5|Small Agency|\n",
      "| null| null|     null| 12.9|Small Agency|\n",
      "|  8.7| 48.9|     75.0|  7.2|Small Agency|\n",
      "| 57.5| 32.8|     23.5| 11.8|Small Agency|\n",
      "|120.2| 19.6|     11.6| 13.2|Small Agency|\n",
      "|  8.6|  2.1|      1.0|  4.8|Small Agency|\n",
      "|199.8|  2.6|     21.2| 10.6|Small Agency|\n",
      "| 66.1| null|     null| null|Small Agency|\n",
      "|214.7| 24.0|      4.0| 17.4|  Big Agency|\n",
      "| 23.8| 35.1|     65.9|  9.2|Small Agency|\n",
      "| 97.5|  7.6|      7.2|  9.7|Small Agency|\n",
      "| null| 32.9|     46.0| 19.0|Small Agency|\n",
      "|195.4| 47.7|     52.9| 22.4|Small Agency|\n",
      "| 67.8| 36.6|    114.0| 12.5|Small Agency|\n",
      "|281.4| 39.6|     55.8| 24.4|  Big Agency|\n",
      "| 69.2| 20.5|     18.3| 11.3|Small Agency|\n",
      "|147.3| null|     19.1| 14.6|Small Agency|\n",
      "+-----+-----+---------+-----+------------+\n",
      "only showing top 20 rows\n",
      "\n"
     ]
    }
   ],
   "source": [
    "#Introduction of new column based on filter\n",
    "\n",
    "df.withColumn('Type',f.when(f.col('TV')>200,'Big Agency').otherwise('Small Agency')).show()"
   ]
  },
  {
   "cell_type": "code",
   "execution_count": 26,
   "metadata": {},
   "outputs": [
    {
     "name": "stdout",
     "output_type": "stream",
     "text": [
      "+-----+-----+---------+-----+\n",
      "|   TV|radio|newspaper|sales|\n",
      "+-----+-----+---------+-----+\n",
      "|281.4| 39.6|     55.8| 24.4|\n",
      "|266.9| 43.8|      5.0| 25.4|\n",
      "|239.9| 41.5|     18.5| 23.2|\n",
      "|198.9| 49.4|     60.0| 23.7|\n",
      "|210.8| 49.6|     37.7| 23.8|\n",
      "|261.3| 42.7|     54.7| 24.2|\n",
      "|289.7| 42.3|     51.2| 25.4|\n",
      "|296.4| 36.3|    100.9| 23.8|\n",
      "|220.3| 49.0|      3.2| 24.7|\n",
      "|243.2| 49.0|     44.3| 25.4|\n",
      "|276.9| 48.9|     41.8| 27.0|\n",
      "|287.6| 43.0|     71.8| 26.2|\n",
      "|283.6| 42.0|     66.2| 25.5|\n",
      "+-----+-----+---------+-----+\n",
      "\n"
     ]
    }
   ],
   "source": [
    "#Selecting only specific columns based on a filter\n",
    "\n",
    "df.filter('Sales>23').select(df.columns).show()"
   ]
  },
  {
   "cell_type": "code",
   "execution_count": 31,
   "metadata": {},
   "outputs": [
    {
     "name": "stdout",
     "output_type": "stream",
     "text": [
      "+-----+-----+---------+-----+\n",
      "|   TV|radio|newspaper|sales|\n",
      "+-----+-----+---------+-----+\n",
      "|281.4| 39.6|     55.8| 24.4|\n",
      "|266.9| 43.8|      5.0| 25.4|\n",
      "|261.3| 42.7|     54.7| 24.2|\n",
      "|289.7| 42.3|     51.2| 25.4|\n",
      "|220.3| 49.0|      3.2| 24.7|\n",
      "|243.2| 49.0|     44.3| 25.4|\n",
      "|276.9| 48.9|     41.8| 27.0|\n",
      "|287.6| 43.0|     71.8| 26.2|\n",
      "|283.6| 42.0|     66.2| 25.5|\n",
      "+-----+-----+---------+-----+\n",
      "\n"
     ]
    }
   ],
   "source": [
    "#Selecting the specific columns based on multiple filters - & condition\n",
    "\n",
    "df.filter((df['TV']>200) & (df['sales']>24)).select(df.columns).show()"
   ]
  },
  {
   "cell_type": "code",
   "execution_count": 40,
   "metadata": {},
   "outputs": [
    {
     "name": "stdout",
     "output_type": "stream",
     "text": [
      "And Condition:\n",
      "+----+-----+---------+-----+\n",
      "|  TV|radio|newspaper|sales|\n",
      "+----+-----+---------+-----+\n",
      "|17.2| 45.9|     69.3|  9.3|\n",
      "| 8.7| 48.9|     75.0|  7.2|\n",
      "+----+-----+---------+-----+\n",
      "\n",
      "Or Condition:\n",
      "+-----+-----+---------+-----+\n",
      "|   TV|radio|newspaper|sales|\n",
      "+-----+-----+---------+-----+\n",
      "|230.1| 37.8|     69.2| 22.1|\n",
      "| 17.2| 45.9|     69.3|  9.3|\n",
      "|  8.7| 48.9|     75.0|  7.2|\n",
      "| 23.8| 35.1|     65.9|  9.2|\n",
      "|195.4| 47.7|     52.9| 22.4|\n",
      "| 67.8| 36.6|    114.0| 12.5|\n",
      "| 74.7| 49.4|     45.7| 14.7|\n",
      "|182.6| 46.2|     58.7| 21.2|\n",
      "|198.9| 49.4|     60.0| 23.7|\n",
      "|210.8| 49.6|     37.7| 23.8|\n",
      "| 16.9| 43.7|     89.4|  8.7|\n",
      "|193.2| 18.4|     65.7| 15.2|\n",
      "|110.7| 40.6|     63.2| 16.0|\n",
      "| 88.3| 25.5|     73.4| 12.9|\n",
      "|109.8| 47.8|     51.4| 16.7|\n",
      "|250.9| 36.5|     72.3| 22.2|\n",
      "|296.4| 36.3|    100.9| 23.8|\n",
      "|137.9| 46.4|     59.0| 19.2|\n",
      "| 78.2| 46.8|     34.5| 14.6|\n",
      "|125.7| 36.9|     79.2| 15.9|\n",
      "+-----+-----+---------+-----+\n",
      "only showing top 20 rows\n",
      "\n"
     ]
    }
   ],
   "source": [
    "print('And Condition:')\n",
    "df.filter((df['radio']>45) & (df['newspaper']>60)).select(df.columns).show()\n",
    "\n",
    "print('Or Condition:')\n",
    "df.filter((df['radio']>45) | (df['newspaper']>60)).select(df.columns).show()\n"
   ]
  },
  {
   "cell_type": "code",
   "execution_count": 48,
   "metadata": {},
   "outputs": [
    {
     "name": "stdout",
     "output_type": "stream",
     "text": [
      "+-----+-----+---------+-----+\n",
      "|   TV|radio|newspaper|sales|\n",
      "+-----+-----+---------+-----+\n",
      "| 44.5| null|     45.1| 10.4|\n",
      "| 17.2| 45.9|     69.3|  9.3|\n",
      "|151.5| 41.3|     58.5| 18.5|\n",
      "| null| null|     null| 12.9|\n",
      "|  8.7| 48.9|     75.0|  7.2|\n",
      "| 57.5| 32.8|     23.5| 11.8|\n",
      "|120.2| 19.6|     11.6| 13.2|\n",
      "|  8.6|  2.1|      1.0|  4.8|\n",
      "|199.8|  2.6|     21.2| 10.6|\n",
      "|214.7| 24.0|      4.0| 17.4|\n",
      "| 23.8| 35.1|     65.9|  9.2|\n",
      "| 97.5|  7.6|      7.2|  9.7|\n",
      "| null| 32.9|     46.0| 19.0|\n",
      "| 67.8| 36.6|    114.0| 12.5|\n",
      "| 69.2| 20.5|     18.3| 11.3|\n",
      "|147.3| null|     19.1| 14.6|\n",
      "|218.4| 27.7|     53.4| 18.0|\n",
      "|237.4|  5.1|     23.5| 12.5|\n",
      "| 13.2| 15.9|     49.6|  5.6|\n",
      "| null| 16.9|     26.2| 15.5|\n",
      "+-----+-----+---------+-----+\n",
      "only showing top 20 rows\n",
      "\n"
     ]
    }
   ],
   "source": [
    "#Inverse Operation  ~\n",
    "\n",
    "df.filter(~(df['sales']>22)).show()"
   ]
  },
  {
   "cell_type": "code",
   "execution_count": null,
   "metadata": {},
   "outputs": [],
   "source": []
  }
 ],
 "metadata": {
  "kernelspec": {
   "display_name": "Python 3",
   "language": "python",
   "name": "python3"
  },
  "language_info": {
   "codemirror_mode": {
    "name": "ipython",
    "version": 3
   },
   "file_extension": ".py",
   "mimetype": "text/x-python",
   "name": "python",
   "nbconvert_exporter": "python",
   "pygments_lexer": "ipython3",
   "version": "3.7.6"
  }
 },
 "nbformat": 4,
 "nbformat_minor": 4
}
