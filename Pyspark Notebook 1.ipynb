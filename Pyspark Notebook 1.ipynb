{
 "cells": [
  {
   "cell_type": "markdown",
   "metadata": {},
   "source": [
    "# TUTORIAL 1"
   ]
  },
  {
   "cell_type": "code",
   "execution_count": 2,
   "metadata": {},
   "outputs": [],
   "source": [
    "#!pip install pyspark"
   ]
  },
  {
   "cell_type": "code",
   "execution_count": 3,
   "metadata": {},
   "outputs": [],
   "source": [
    "import pyspark"
   ]
  },
  {
   "cell_type": "markdown",
   "metadata": {},
   "source": [
    "#### Do remember that whenever you want to work with PySpark, we need to start the spark session. So let's do it  "
   ]
  },
  {
   "cell_type": "code",
   "execution_count": 4,
   "metadata": {},
   "outputs": [],
   "source": [
    "from pyspark.sql import SparkSession"
   ]
  },
  {
   "cell_type": "code",
   "execution_count": 5,
   "metadata": {},
   "outputs": [],
   "source": [
    "spark=SparkSession.builder.appName('Practice').getOrCreate()"
   ]
  },
  {
   "cell_type": "code",
   "execution_count": 6,
   "metadata": {},
   "outputs": [
    {
     "data": {
      "text/html": [
       "\n",
       "            <div>\n",
       "                <p><b>SparkSession - in-memory</b></p>\n",
       "                \n",
       "        <div>\n",
       "            <p><b>SparkContext</b></p>\n",
       "\n",
       "            <p><a href=\"http://192.168.29.203:4040\">Spark UI</a></p>\n",
       "\n",
       "            <dl>\n",
       "              <dt>Version</dt>\n",
       "                <dd><code>v3.0.1</code></dd>\n",
       "              <dt>Master</dt>\n",
       "                <dd><code>local[*]</code></dd>\n",
       "              <dt>AppName</dt>\n",
       "                <dd><code>Practice</code></dd>\n",
       "            </dl>\n",
       "        </div>\n",
       "        \n",
       "            </div>\n",
       "        "
      ],
      "text/plain": [
       "<pyspark.sql.session.SparkSession at 0x7f9060894290>"
      ]
     },
     "execution_count": 6,
     "metadata": {},
     "output_type": "execute_result"
    }
   ],
   "source": [
    "spark"
   ]
  },
  {
   "cell_type": "code",
   "execution_count": 7,
   "metadata": {},
   "outputs": [],
   "source": [
    "df_spk=spark.read.csv('bhp.csv')"
   ]
  },
  {
   "cell_type": "code",
   "execution_count": 9,
   "metadata": {},
   "outputs": [
    {
     "name": "stdout",
     "output_type": "stream",
     "text": [
      "+--------------------+---------+----------+----+-----+---+--------------+\n",
      "|                 _c0|      _c1|       _c2| _c3|  _c4|_c5|           _c6|\n",
      "+--------------------+---------+----------+----+-----+---+--------------+\n",
      "|            location|     size|total_sqft|bath|price|bhk|price_per_sqft|\n",
      "|Electronic City P...|    2 BHK|    1056.0| 2.0|39.07|  2|          3699|\n",
      "|    Chikka Tirupathi|4 Bedroom|    2600.0| 5.0|120.0|  4|          4615|\n",
      "|         Uttarahalli|    3 BHK|    1440.0| 2.0| 62.0|  3|          4305|\n",
      "|  Lingadheeranahalli|    3 BHK|    1521.0| 3.0| 95.0|  3|          6245|\n",
      "|            Kothanur|    2 BHK|    1200.0| 2.0| 51.0|  2|          4250|\n",
      "|          Whitefield|    2 BHK|    1170.0| 2.0| 38.0|  2|          3247|\n",
      "|    Old Airport Road|    4 BHK|    2732.0| 4.0|204.0|  4|          7467|\n",
      "|        Rajaji Nagar|    4 BHK|    3300.0| 4.0|600.0|  4|         18181|\n",
      "|        Marathahalli|    3 BHK|    1310.0| 3.0|63.25|  3|          4828|\n",
      "|               other|6 Bedroom|    1020.0| 6.0|370.0|  6|         36274|\n",
      "|          Whitefield|    3 BHK|    1800.0| 2.0| 70.0|  3|          3888|\n",
      "|          Whitefield|4 Bedroom|    2785.0| 5.0|295.0|  4|         10592|\n",
      "|  7th Phase JP Nagar|    2 BHK|    1000.0| 2.0| 38.0|  2|          3800|\n",
      "|           Gottigere|    2 BHK|    1100.0| 2.0| 40.0|  2|          3636|\n",
      "|            Sarjapur|3 Bedroom|    2250.0| 3.0|148.0|  3|          6577|\n",
      "|         Mysore Road|    2 BHK|    1175.0| 2.0| 73.5|  2|          6255|\n",
      "|       Bisuvanahalli|    3 BHK|    1180.0| 3.0| 48.0|  3|          4067|\n",
      "|Raja Rajeshwari N...|    3 BHK|    1540.0| 3.0| 60.0|  3|          3896|\n",
      "|               other|    3 BHK|    2770.0| 4.0|290.0|  3|         10469|\n",
      "+--------------------+---------+----------+----+-----+---+--------------+\n",
      "only showing top 20 rows\n",
      "\n"
     ]
    }
   ],
   "source": [
    "df_spk.show()"
   ]
  },
  {
   "cell_type": "markdown",
   "metadata": {},
   "source": [
    "### Now let's make the first row as our headers:"
   ]
  },
  {
   "cell_type": "code",
   "execution_count": 12,
   "metadata": {},
   "outputs": [],
   "source": [
    "df_spk=spark.read.option('header','true').csv('bhp.csv')"
   ]
  },
  {
   "cell_type": "code",
   "execution_count": 13,
   "metadata": {},
   "outputs": [
    {
     "name": "stdout",
     "output_type": "stream",
     "text": [
      "+--------------------+---------+----------+----+-----+---+--------------+\n",
      "|            location|     size|total_sqft|bath|price|bhk|price_per_sqft|\n",
      "+--------------------+---------+----------+----+-----+---+--------------+\n",
      "|Electronic City P...|    2 BHK|    1056.0| 2.0|39.07|  2|          3699|\n",
      "|    Chikka Tirupathi|4 Bedroom|    2600.0| 5.0|120.0|  4|          4615|\n",
      "|         Uttarahalli|    3 BHK|    1440.0| 2.0| 62.0|  3|          4305|\n",
      "|  Lingadheeranahalli|    3 BHK|    1521.0| 3.0| 95.0|  3|          6245|\n",
      "|            Kothanur|    2 BHK|    1200.0| 2.0| 51.0|  2|          4250|\n",
      "|          Whitefield|    2 BHK|    1170.0| 2.0| 38.0|  2|          3247|\n",
      "|    Old Airport Road|    4 BHK|    2732.0| 4.0|204.0|  4|          7467|\n",
      "|        Rajaji Nagar|    4 BHK|    3300.0| 4.0|600.0|  4|         18181|\n",
      "|        Marathahalli|    3 BHK|    1310.0| 3.0|63.25|  3|          4828|\n",
      "|               other|6 Bedroom|    1020.0| 6.0|370.0|  6|         36274|\n",
      "|          Whitefield|    3 BHK|    1800.0| 2.0| 70.0|  3|          3888|\n",
      "|          Whitefield|4 Bedroom|    2785.0| 5.0|295.0|  4|         10592|\n",
      "|  7th Phase JP Nagar|    2 BHK|    1000.0| 2.0| 38.0|  2|          3800|\n",
      "|           Gottigere|    2 BHK|    1100.0| 2.0| 40.0|  2|          3636|\n",
      "|            Sarjapur|3 Bedroom|    2250.0| 3.0|148.0|  3|          6577|\n",
      "|         Mysore Road|    2 BHK|    1175.0| 2.0| 73.5|  2|          6255|\n",
      "|       Bisuvanahalli|    3 BHK|    1180.0| 3.0| 48.0|  3|          4067|\n",
      "|Raja Rajeshwari N...|    3 BHK|    1540.0| 3.0| 60.0|  3|          3896|\n",
      "|               other|    3 BHK|    2770.0| 4.0|290.0|  3|         10469|\n",
      "|               other|    2 BHK|    1100.0| 2.0| 48.0|  2|          4363|\n",
      "+--------------------+---------+----------+----+-----+---+--------------+\n",
      "only showing top 20 rows\n",
      "\n"
     ]
    }
   ],
   "source": [
    "df_spk.show()"
   ]
  },
  {
   "cell_type": "code",
   "execution_count": 14,
   "metadata": {},
   "outputs": [
    {
     "data": {
      "text/plain": [
       "pyspark.sql.dataframe.DataFrame"
      ]
     },
     "execution_count": 14,
     "metadata": {},
     "output_type": "execute_result"
    }
   ],
   "source": [
    "type(df_spk)"
   ]
  },
  {
   "cell_type": "code",
   "execution_count": 16,
   "metadata": {},
   "outputs": [
    {
     "data": {
      "text/plain": [
       "[Row(location='Electronic City Phase II', size='2 BHK', total_sqft='1056.0', bath='2.0', price='39.07', bhk='2', price_per_sqft='3699'),\n",
       " Row(location='Chikka Tirupathi', size='4 Bedroom', total_sqft='2600.0', bath='5.0', price='120.0', bhk='4', price_per_sqft='4615'),\n",
       " Row(location='Uttarahalli', size='3 BHK', total_sqft='1440.0', bath='2.0', price='62.0', bhk='3', price_per_sqft='4305')]"
      ]
     },
     "execution_count": 16,
     "metadata": {},
     "output_type": "execute_result"
    }
   ],
   "source": [
    "df_spk.head(3)"
   ]
  },
  {
   "cell_type": "code",
   "execution_count": 17,
   "metadata": {},
   "outputs": [
    {
     "name": "stdout",
     "output_type": "stream",
     "text": [
      "root\n",
      " |-- location: string (nullable = true)\n",
      " |-- size: string (nullable = true)\n",
      " |-- total_sqft: string (nullable = true)\n",
      " |-- bath: string (nullable = true)\n",
      " |-- price: string (nullable = true)\n",
      " |-- bhk: string (nullable = true)\n",
      " |-- price_per_sqft: string (nullable = true)\n",
      "\n"
     ]
    }
   ],
   "source": [
    "df_spk.printSchema()"
   ]
  },
  {
   "cell_type": "code",
   "execution_count": null,
   "metadata": {},
   "outputs": [],
   "source": []
  }
 ],
 "metadata": {
  "kernelspec": {
   "display_name": "Python 3",
   "language": "python",
   "name": "python3"
  },
  "language_info": {
   "codemirror_mode": {
    "name": "ipython",
    "version": 3
   },
   "file_extension": ".py",
   "mimetype": "text/x-python",
   "name": "python",
   "nbconvert_exporter": "python",
   "pygments_lexer": "ipython3",
   "version": "3.7.6"
  }
 },
 "nbformat": 4,
 "nbformat_minor": 4
}
