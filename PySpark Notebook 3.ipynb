{
 "cells": [
  {
   "cell_type": "markdown",
   "metadata": {},
   "source": [
    "# TUTORIAL 3"
   ]
  },
  {
   "cell_type": "markdown",
   "metadata": {},
   "source": [
    "## Handling Missing Values in Spark Dataframe"
   ]
  },
  {
   "cell_type": "markdown",
   "metadata": {},
   "source": [
    " - Dropping Columns\n",
    " - Dropping Rows\n",
    " - Various Parameters in Dropping Functionality\n",
    " - Handling Missing Values by Mean, Median and Mode\n",
    " - How to read a dataset from URL"
   ]
  },
  {
   "cell_type": "code",
   "execution_count": 41,
   "metadata": {},
   "outputs": [],
   "source": [
    "import pandas as pd\n",
    "import numpy as np\n",
    "from pyspark.sql import SparkSession\n",
    "from pyspark.sql import functions\n",
    "from pyspark.sql.functions import col"
   ]
  },
  {
   "cell_type": "code",
   "execution_count": 3,
   "metadata": {},
   "outputs": [],
   "source": [
    "spark=SparkSession.builder.appName('Training').getOrCreate()"
   ]
  },
  {
   "cell_type": "code",
   "execution_count": 4,
   "metadata": {},
   "outputs": [
    {
     "data": {
      "text/html": [
       "\n",
       "            <div>\n",
       "                <p><b>SparkSession - in-memory</b></p>\n",
       "                \n",
       "        <div>\n",
       "            <p><b>SparkContext</b></p>\n",
       "\n",
       "            <p><a href=\"http://192.168.29.203:4042\">Spark UI</a></p>\n",
       "\n",
       "            <dl>\n",
       "              <dt>Version</dt>\n",
       "                <dd><code>v3.0.1</code></dd>\n",
       "              <dt>Master</dt>\n",
       "                <dd><code>local[*]</code></dd>\n",
       "              <dt>AppName</dt>\n",
       "                <dd><code>Training</code></dd>\n",
       "            </dl>\n",
       "        </div>\n",
       "        \n",
       "            </div>\n",
       "        "
      ],
      "text/plain": [
       "<pyspark.sql.session.SparkSession at 0x7f9b18146250>"
      ]
     },
     "execution_count": 4,
     "metadata": {},
     "output_type": "execute_result"
    }
   ],
   "source": [
    "spark"
   ]
  },
  {
   "cell_type": "code",
   "execution_count": 17,
   "metadata": {},
   "outputs": [],
   "source": [
    "spk_df=spark.read.csv('bhp.csv',header=True, inferSchema=True)"
   ]
  },
  {
   "cell_type": "code",
   "execution_count": 18,
   "metadata": {},
   "outputs": [
    {
     "name": "stdout",
     "output_type": "stream",
     "text": [
      "+--------------------+---------+----------+----+-----+---+--------------+\n",
      "|            location|     size|total_sqft|bath|price|bhk|price_per_sqft|\n",
      "+--------------------+---------+----------+----+-----+---+--------------+\n",
      "|Electronic City P...|    2 BHK|    1056.0|   2|39.07|  2|          3699|\n",
      "|    Chikka Tirupathi|4 Bedroom|    2600.0|   5|120.0|  4|          4615|\n",
      "|         Uttarahalli|    3 BHK|    1440.0|   2| 62.0|  3|          4305|\n",
      "|  Lingadheeranahalli|    3 BHK|    1521.0|   3| 95.0|  3|          6245|\n",
      "|            Kothanur|    2 BHK|    1200.0|   2| 51.0|  2|          4250|\n",
      "|          Whitefield|    2 BHK|    1170.0|   2| 38.0|  2|          3247|\n",
      "|    Old Airport Road|    4 BHK|    2732.0|   4|204.0|  4|          7467|\n",
      "|        Rajaji Nagar|    4 BHK|    3300.0|   4|600.0|  4|         18181|\n",
      "|        Marathahalli|    3 BHK|    1310.0|   3|63.25|  3|          4828|\n",
      "|               other|6 Bedroom|    1020.0|   6|370.0|  6|         36274|\n",
      "|          Whitefield|    3 BHK|    1800.0|   2| 70.0|  3|          3888|\n",
      "|          Whitefield|4 Bedroom|    2785.0|   5|295.0|  4|         10592|\n",
      "|  7th Phase JP Nagar|    2 BHK|    1000.0|   2| 38.0|  2|          3800|\n",
      "|           Gottigere|    2 BHK|    1100.0|   2| 40.0|  2|          3636|\n",
      "|            Sarjapur|3 Bedroom|    2250.0|   3|148.0|  3|          6577|\n",
      "|         Mysore Road|    2 BHK|    1175.0|   2| 73.5|  2|          6255|\n",
      "|       Bisuvanahalli|    3 BHK|    1180.0|   3| 48.0|  3|          4067|\n",
      "|Raja Rajeshwari N...|    3 BHK|    1540.0|   3| 60.0|  3|          3896|\n",
      "|               other|    3 BHK|    2770.0|   4|290.0|  3|         10469|\n",
      "|               other|    2 BHK|    1100.0|   2| 48.0|  2|          4363|\n",
      "+--------------------+---------+----------+----+-----+---+--------------+\n",
      "only showing top 20 rows\n",
      "\n"
     ]
    }
   ],
   "source": [
    "spk_df.show()"
   ]
  },
  {
   "cell_type": "code",
   "execution_count": 19,
   "metadata": {},
   "outputs": [
    {
     "name": "stdout",
     "output_type": "stream",
     "text": [
      "+--------------------+---------+----------+-----+---+--------------+\n",
      "|            location|     size|total_sqft|price|bhk|price_per_sqft|\n",
      "+--------------------+---------+----------+-----+---+--------------+\n",
      "|Electronic City P...|    2 BHK|    1056.0|39.07|  2|          3699|\n",
      "|    Chikka Tirupathi|4 Bedroom|    2600.0|120.0|  4|          4615|\n",
      "|         Uttarahalli|    3 BHK|    1440.0| 62.0|  3|          4305|\n",
      "|  Lingadheeranahalli|    3 BHK|    1521.0| 95.0|  3|          6245|\n",
      "|            Kothanur|    2 BHK|    1200.0| 51.0|  2|          4250|\n",
      "|          Whitefield|    2 BHK|    1170.0| 38.0|  2|          3247|\n",
      "|    Old Airport Road|    4 BHK|    2732.0|204.0|  4|          7467|\n",
      "|        Rajaji Nagar|    4 BHK|    3300.0|600.0|  4|         18181|\n",
      "|        Marathahalli|    3 BHK|    1310.0|63.25|  3|          4828|\n",
      "|               other|6 Bedroom|    1020.0|370.0|  6|         36274|\n",
      "|          Whitefield|    3 BHK|    1800.0| 70.0|  3|          3888|\n",
      "|          Whitefield|4 Bedroom|    2785.0|295.0|  4|         10592|\n",
      "|  7th Phase JP Nagar|    2 BHK|    1000.0| 38.0|  2|          3800|\n",
      "|           Gottigere|    2 BHK|    1100.0| 40.0|  2|          3636|\n",
      "|            Sarjapur|3 Bedroom|    2250.0|148.0|  3|          6577|\n",
      "|         Mysore Road|    2 BHK|    1175.0| 73.5|  2|          6255|\n",
      "|       Bisuvanahalli|    3 BHK|    1180.0| 48.0|  3|          4067|\n",
      "|Raja Rajeshwari N...|    3 BHK|    1540.0| 60.0|  3|          3896|\n",
      "|               other|    3 BHK|    2770.0|290.0|  3|         10469|\n",
      "|               other|    2 BHK|    1100.0| 48.0|  2|          4363|\n",
      "+--------------------+---------+----------+-----+---+--------------+\n",
      "only showing top 20 rows\n",
      "\n"
     ]
    }
   ],
   "source": [
    "#Dropping a column from the dataframe:\n",
    "\n",
    "#Always remember that drop operation in Spark Dataframe is not inplace, so we have to assign>\n",
    "#> the modified df once again to the original df\n",
    "\n",
    "\n",
    "spk_df.drop('bath').show()"
   ]
  },
  {
   "cell_type": "code",
   "execution_count": 44,
   "metadata": {},
   "outputs": [
    {
     "name": "stdout",
     "output_type": "stream",
     "text": [
      "+--------+-----+----------+----+-----+---+--------------+\n",
      "|location| size|total_sqft|bath|price|bhk|price_per_sqft|\n",
      "+--------+-----+----------+----+-----+---+--------------+\n",
      "|    null|3 BHK|    1925.0|null|125.0|  3|          null|\n",
      "|    null|1 BHK|      null|   1| 38.0|  1|          6333|\n",
      "|    null| null|      null|null| 50.0|  2|          3937|\n",
      "|    null| null|      null|null| null|  3|          5307|\n",
      "+--------+-----+----------+----+-----+---+--------------+\n",
      "\n"
     ]
    }
   ],
   "source": [
    "#Seeking Rows which have null values in one column or the other, using the where clause\n",
    "\n",
    "spk_df.where(col('location').isNull()).show()"
   ]
  },
  {
   "cell_type": "code",
   "execution_count": 47,
   "metadata": {},
   "outputs": [
    {
     "name": "stdout",
     "output_type": "stream",
     "text": [
      "+--------------------+---------+----------+----+-----+---+--------------+\n",
      "|            location|     size|total_sqft|bath|price|bhk|price_per_sqft|\n",
      "+--------------------+---------+----------+----+-----+---+--------------+\n",
      "|Electronic City P...|    2 BHK|    1056.0|   2|39.07|  2|          3699|\n",
      "|    Chikka Tirupathi|4 Bedroom|    2600.0|   5|120.0|  4|          4615|\n",
      "|         Uttarahalli|    3 BHK|    1440.0|   2| 62.0|  3|          4305|\n",
      "|  Lingadheeranahalli|    3 BHK|    1521.0|   3| 95.0|  3|          6245|\n",
      "|            Kothanur|    2 BHK|    1200.0|   2| 51.0|  2|          4250|\n",
      "|          Whitefield|    2 BHK|    1170.0|   2| 38.0|  2|          3247|\n",
      "|    Old Airport Road|    4 BHK|    2732.0|   4|204.0|  4|          7467|\n",
      "|        Rajaji Nagar|    4 BHK|    3300.0|   4|600.0|  4|         18181|\n",
      "|        Marathahalli|    3 BHK|    1310.0|   3|63.25|  3|          4828|\n",
      "|               other|6 Bedroom|    1020.0|   6|370.0|  6|         36274|\n",
      "|          Whitefield|    3 BHK|    1800.0|   2| 70.0|  3|          3888|\n",
      "|          Whitefield|4 Bedroom|    2785.0|   5|295.0|  4|         10592|\n",
      "|  7th Phase JP Nagar|    2 BHK|    1000.0|   2| 38.0|  2|          3800|\n",
      "|           Gottigere|    2 BHK|    1100.0|   2| 40.0|  2|          3636|\n",
      "|            Sarjapur|3 Bedroom|    2250.0|   3|148.0|  3|          6577|\n",
      "|         Mysore Road|    2 BHK|    1175.0|   2| 73.5|  2|          6255|\n",
      "|       Bisuvanahalli|    3 BHK|    1180.0|   3| 48.0|  3|          4067|\n",
      "|Raja Rajeshwari N...|    3 BHK|    1540.0|   3| 60.0|  3|          3896|\n",
      "|               other|    3 BHK|    2770.0|   4|290.0|  3|         10469|\n",
      "|               other|    2 BHK|    1100.0|   2| 48.0|  2|          4363|\n",
      "+--------------------+---------+----------+----+-----+---+--------------+\n",
      "only showing top 20 rows\n",
      "\n"
     ]
    }
   ],
   "source": [
    "#Removing or Dropping the nan value without any parematere. In this situation it has dropped >\n",
    "#> all the rows having null values in any of the columns, even if there is just one null value \n",
    "\n",
    "\n",
    "spk_df.na.drop().show()"
   ]
  },
  {
   "cell_type": "code",
   "execution_count": 50,
   "metadata": {},
   "outputs": [
    {
     "name": "stdout",
     "output_type": "stream",
     "text": [
      "+--------------------+---------+----------+----+-----+---+--------------+\n",
      "|            location|     size|total_sqft|bath|price|bhk|price_per_sqft|\n",
      "+--------------------+---------+----------+----+-----+---+--------------+\n",
      "|Electronic City P...|    2 BHK|    1056.0|   2|39.07|  2|          3699|\n",
      "|    Chikka Tirupathi|4 Bedroom|    2600.0|   5|120.0|  4|          4615|\n",
      "|         Uttarahalli|    3 BHK|    1440.0|   2| 62.0|  3|          4305|\n",
      "|  Lingadheeranahalli|    3 BHK|    1521.0|   3| 95.0|  3|          6245|\n",
      "|            Kothanur|    2 BHK|    1200.0|   2| 51.0|  2|          4250|\n",
      "|          Whitefield|    2 BHK|    1170.0|   2| 38.0|  2|          3247|\n",
      "|    Old Airport Road|    4 BHK|    2732.0|   4|204.0|  4|          7467|\n",
      "|        Rajaji Nagar|    4 BHK|    3300.0|   4|600.0|  4|         18181|\n",
      "|        Marathahalli|    3 BHK|    1310.0|   3|63.25|  3|          4828|\n",
      "|               other|6 Bedroom|    1020.0|   6|370.0|  6|         36274|\n",
      "|          Whitefield|    3 BHK|    1800.0|   2| 70.0|  3|          3888|\n",
      "|          Whitefield|4 Bedroom|    2785.0|   5|295.0|  4|         10592|\n",
      "|  7th Phase JP Nagar|    2 BHK|    1000.0|   2| 38.0|  2|          3800|\n",
      "|           Gottigere|    2 BHK|    1100.0|   2| 40.0|  2|          3636|\n",
      "|            Sarjapur|3 Bedroom|    2250.0|   3|148.0|  3|          6577|\n",
      "|         Mysore Road|    2 BHK|    1175.0|   2| 73.5|  2|          6255|\n",
      "|       Bisuvanahalli|    3 BHK|    1180.0|   3| 48.0|  3|          4067|\n",
      "|Raja Rajeshwari N...|    3 BHK|    1540.0|   3| 60.0|  3|          3896|\n",
      "|               other|    3 BHK|    2770.0|   4|290.0|  3|         10469|\n",
      "|               other|    2 BHK|    1100.0|   2| 48.0|  2|          4363|\n",
      "+--------------------+---------+----------+----+-----+---+--------------+\n",
      "only showing top 20 rows\n",
      "\n"
     ]
    }
   ],
   "source": [
    "#using the parameters inside the drop\n",
    "\n",
    "#Any - Entire Row would drop if any of the column has null values for that specific row.\n",
    "\n",
    "spk_df.na.drop(how='any').show()"
   ]
  },
  {
   "cell_type": "code",
   "execution_count": 51,
   "metadata": {},
   "outputs": [
    {
     "name": "stdout",
     "output_type": "stream",
     "text": [
      "+--------------------+---------+----------+----+-----+---+--------------+\n",
      "|            location|     size|total_sqft|bath|price|bhk|price_per_sqft|\n",
      "+--------------------+---------+----------+----+-----+---+--------------+\n",
      "|Electronic City P...|    2 BHK|    1056.0|   2|39.07|  2|          3699|\n",
      "|    Chikka Tirupathi|4 Bedroom|    2600.0|   5|120.0|  4|          4615|\n",
      "|         Uttarahalli|    3 BHK|    1440.0|   2| 62.0|  3|          4305|\n",
      "|  Lingadheeranahalli|    3 BHK|    1521.0|   3| 95.0|  3|          6245|\n",
      "|            Kothanur|    2 BHK|    1200.0|   2| 51.0|  2|          4250|\n",
      "|          Whitefield|    2 BHK|    1170.0|   2| 38.0|  2|          3247|\n",
      "|    Old Airport Road|    4 BHK|    2732.0|   4|204.0|  4|          7467|\n",
      "|        Rajaji Nagar|    4 BHK|    3300.0|   4|600.0|  4|         18181|\n",
      "|        Marathahalli|    3 BHK|    1310.0|   3|63.25|  3|          4828|\n",
      "|               other|6 Bedroom|    1020.0|   6|370.0|  6|         36274|\n",
      "|          Whitefield|    3 BHK|    1800.0|   2| 70.0|  3|          3888|\n",
      "|          Whitefield|4 Bedroom|    2785.0|   5|295.0|  4|         10592|\n",
      "|  7th Phase JP Nagar|    2 BHK|    1000.0|   2| 38.0|  2|          3800|\n",
      "|           Gottigere|    2 BHK|    1100.0|   2| 40.0|  2|          3636|\n",
      "|            Sarjapur|3 Bedroom|    2250.0|   3|148.0|  3|          6577|\n",
      "|         Mysore Road|    2 BHK|    1175.0|   2| 73.5|  2|          6255|\n",
      "|       Bisuvanahalli|    3 BHK|    1180.0|   3| 48.0|  3|          4067|\n",
      "|Raja Rajeshwari N...|    3 BHK|    1540.0|   3| 60.0|  3|          3896|\n",
      "|               other|    3 BHK|    2770.0|   4|290.0|  3|         10469|\n",
      "|               other|    2 BHK|    1100.0|   2| 48.0|  2|          4363|\n",
      "+--------------------+---------+----------+----+-----+---+--------------+\n",
      "only showing top 20 rows\n",
      "\n"
     ]
    }
   ],
   "source": [
    "#All - Row would drop only if all the values in columns are null for that specific row\n",
    "\n",
    "spk_df.na.drop(how='all').show()"
   ]
  },
  {
   "cell_type": "code",
   "execution_count": 53,
   "metadata": {},
   "outputs": [
    {
     "name": "stdout",
     "output_type": "stream",
     "text": [
      "+--------------------+---------+----------+----+-----+---+--------------+\n",
      "|            location|     size|total_sqft|bath|price|bhk|price_per_sqft|\n",
      "+--------------------+---------+----------+----+-----+---+--------------+\n",
      "|Electronic City P...|    2 BHK|    1056.0|   2|39.07|  2|          3699|\n",
      "|    Chikka Tirupathi|4 Bedroom|    2600.0|   5|120.0|  4|          4615|\n",
      "|         Uttarahalli|    3 BHK|    1440.0|   2| 62.0|  3|          4305|\n",
      "|  Lingadheeranahalli|    3 BHK|    1521.0|   3| 95.0|  3|          6245|\n",
      "|            Kothanur|    2 BHK|    1200.0|   2| 51.0|  2|          4250|\n",
      "|          Whitefield|    2 BHK|    1170.0|   2| 38.0|  2|          3247|\n",
      "|    Old Airport Road|    4 BHK|    2732.0|   4|204.0|  4|          7467|\n",
      "|        Rajaji Nagar|    4 BHK|    3300.0|   4|600.0|  4|         18181|\n",
      "|        Marathahalli|    3 BHK|    1310.0|   3|63.25|  3|          4828|\n",
      "|               other|6 Bedroom|    1020.0|   6|370.0|  6|         36274|\n",
      "|          Whitefield|    3 BHK|    1800.0|   2| 70.0|  3|          3888|\n",
      "|          Whitefield|4 Bedroom|    2785.0|   5|295.0|  4|         10592|\n",
      "|  7th Phase JP Nagar|    2 BHK|    1000.0|   2| 38.0|  2|          3800|\n",
      "|           Gottigere|    2 BHK|    1100.0|   2| 40.0|  2|          3636|\n",
      "|            Sarjapur|3 Bedroom|    2250.0|   3|148.0|  3|          6577|\n",
      "|         Mysore Road|    2 BHK|    1175.0|   2| 73.5|  2|          6255|\n",
      "|       Bisuvanahalli|    3 BHK|    1180.0|   3| 48.0|  3|          4067|\n",
      "|Raja Rajeshwari N...|    3 BHK|    1540.0|   3| 60.0|  3|          3896|\n",
      "|               other|    3 BHK|    2770.0|   4|290.0|  3|         10469|\n",
      "|               other|    2 BHK|    1100.0|   2| 48.0|  2|          4363|\n",
      "+--------------------+---------+----------+----+-----+---+--------------+\n",
      "only showing top 20 rows\n",
      "\n"
     ]
    }
   ],
   "source": [
    "#Threshold in drop\n",
    "\n",
    "#Thresh - it basically helps to drop all those rows with the defined number of threshold nulls.\n",
    "#Like in our case below all the row having 3 or greater nulls would get dropped\n",
    "\n",
    "spk_df.na.drop(thresh=2).show()"
   ]
  },
  {
   "cell_type": "code",
   "execution_count": 54,
   "metadata": {},
   "outputs": [
    {
     "name": "stdout",
     "output_type": "stream",
     "text": [
      "+--------------------+---------+----------+----+-----+---+--------------+\n",
      "|            location|     size|total_sqft|bath|price|bhk|price_per_sqft|\n",
      "+--------------------+---------+----------+----+-----+---+--------------+\n",
      "|Electronic City P...|    2 BHK|    1056.0|   2|39.07|  2|          3699|\n",
      "|    Chikka Tirupathi|4 Bedroom|    2600.0|   5|120.0|  4|          4615|\n",
      "|         Uttarahalli|    3 BHK|    1440.0|   2| 62.0|  3|          4305|\n",
      "|  Lingadheeranahalli|    3 BHK|    1521.0|   3| 95.0|  3|          6245|\n",
      "|            Kothanur|    2 BHK|    1200.0|   2| 51.0|  2|          4250|\n",
      "|          Whitefield|    2 BHK|    1170.0|   2| 38.0|  2|          3247|\n",
      "|    Old Airport Road|    4 BHK|    2732.0|   4|204.0|  4|          7467|\n",
      "|        Rajaji Nagar|    4 BHK|    3300.0|   4|600.0|  4|         18181|\n",
      "|        Marathahalli|    3 BHK|    1310.0|   3|63.25|  3|          4828|\n",
      "|               other|6 Bedroom|    1020.0|   6|370.0|  6|         36274|\n",
      "|          Whitefield|    3 BHK|    1800.0|   2| 70.0|  3|          3888|\n",
      "|          Whitefield|4 Bedroom|    2785.0|   5|295.0|  4|         10592|\n",
      "|  7th Phase JP Nagar|    2 BHK|    1000.0|   2| 38.0|  2|          3800|\n",
      "|           Gottigere|    2 BHK|    1100.0|   2| 40.0|  2|          3636|\n",
      "|            Sarjapur|3 Bedroom|    2250.0|   3|148.0|  3|          6577|\n",
      "|         Mysore Road|    2 BHK|    1175.0|   2| 73.5|  2|          6255|\n",
      "|       Bisuvanahalli|    3 BHK|    1180.0|   3| 48.0|  3|          4067|\n",
      "|Raja Rajeshwari N...|    3 BHK|    1540.0|   3| 60.0|  3|          3896|\n",
      "|               other|    3 BHK|    2770.0|   4|290.0|  3|         10469|\n",
      "|               other|    2 BHK|    1100.0|   2| 48.0|  2|          4363|\n",
      "+--------------------+---------+----------+----+-----+---+--------------+\n",
      "only showing top 20 rows\n",
      "\n"
     ]
    }
   ],
   "source": [
    "#Subset parameter in Drop\n",
    "\n",
    "#Subset - It basically allows to remove the null values from that column which has been defined in the subset, >\n",
    "#>and hence the corresponding row would be deleted\n",
    "\n",
    "spk_df.na.drop(how='any', subset=['location']).show()\n",
    "\n",
    "#Now in this situation all the records would have been deleted"
   ]
  },
  {
   "cell_type": "code",
   "execution_count": 77,
   "metadata": {},
   "outputs": [
    {
     "name": "stdout",
     "output_type": "stream",
     "text": [
      "Schema and Dataset:\n",
      "\n",
      "root\n",
      " |-- Experience: string (nullable = true)\n",
      " |-- Test_Score: integer (nullable = true)\n",
      " |-- Interview Score: integer (nullable = true)\n",
      " |-- Salary: integer (nullable = true)\n",
      "\n",
      "+----------+----------+---------------+------+\n",
      "|Experience|Test_Score|Interview Score|Salary|\n",
      "+----------+----------+---------------+------+\n",
      "|      null|         8|              9| 50000|\n",
      "|      null|         8|              6| 45000|\n",
      "|      five|         6|              7| 60000|\n",
      "|       two|        10|             10| 65000|\n",
      "|     seven|         9|              6| 70000|\n",
      "|     three|         7|             10| 62000|\n",
      "|       ten|      null|              7| 72000|\n",
      "|    eleven|         7|              8| 80000|\n",
      "+----------+----------+---------------+------+\n",
      "\n"
     ]
    }
   ],
   "source": [
    "#Importing data using URL\n",
    "\n",
    "from pyspark import SparkFiles\n",
    "spark.sparkContext.addFile(url)\n",
    "url='https://raw.githubusercontent.com/imamanmehrotra/Datasets/main/Salary_sample.csv'\n",
    "df = spark.read.csv(\"file://\"+SparkFiles.get(\"Salary_sample.csv\"), header=True, inferSchema= True)\n",
    "print('Schema and Dataset:\\n')\n",
    "df.printSchema()\n",
    "df.show()"
   ]
  },
  {
   "cell_type": "code",
   "execution_count": 81,
   "metadata": {},
   "outputs": [
    {
     "name": "stdout",
     "output_type": "stream",
     "text": [
      "+--------------+----------+---------------+------+\n",
      "|    Experience|Test_Score|Interview Score|Salary|\n",
      "+--------------+----------+---------------+------+\n",
      "|Missing Values|         8|              9| 50000|\n",
      "|Missing Values|         8|              6| 45000|\n",
      "|          five|         6|              7| 60000|\n",
      "|           two|        10|             10| 65000|\n",
      "|         seven|         9|              6| 70000|\n",
      "|         three|         7|             10| 62000|\n",
      "|           ten|      null|              7| 72000|\n",
      "|        eleven|         7|              8| 80000|\n",
      "+--------------+----------+---------------+------+\n",
      "\n"
     ]
    }
   ],
   "source": [
    "#Filling the Missing Values\n",
    "\n",
    "df.na.fill('Missing Values','Experience').show()\n",
    "\n",
    "#It has replaced everything with the provided string\n"
   ]
  },
  {
   "cell_type": "code",
   "execution_count": 88,
   "metadata": {},
   "outputs": [
    {
     "name": "stdout",
     "output_type": "stream",
     "text": [
      "+----------+----------+---------------+------+------------------+-----------------------+--------------+\n",
      "|Experience|Test_Score|Interview Score|Salary|Test_Score_imputed|Interview Score_imputed|Salary_imputed|\n",
      "+----------+----------+---------------+------+------------------+-----------------------+--------------+\n",
      "|      null|         8|              9| 50000|                 8|                      9|         50000|\n",
      "|      null|         8|              6| 45000|                 8|                      6|         45000|\n",
      "|      five|         6|              7| 60000|                 6|                      7|         60000|\n",
      "|       two|        10|             10| 65000|                10|                     10|         65000|\n",
      "|     seven|         9|              6| 70000|                 9|                      6|         70000|\n",
      "|     three|         7|             10| 62000|                 7|                     10|         62000|\n",
      "|       ten|      null|              7| 72000|                 7|                      7|         72000|\n",
      "|    eleven|         7|              8| 80000|                 7|                      8|         80000|\n",
      "+----------+----------+---------------+------+------------------+-----------------------+--------------+\n",
      "\n"
     ]
    }
   ],
   "source": [
    "#Replaceing the Null value with Mean, Median or Mode: We have to use imputer function for that\n",
    "\n",
    "from pyspark.ml.feature import Imputer\n",
    "\n",
    "imputer=Imputer(\n",
    "    inputCols=['Test_Score','Interview Score','Salary'],\n",
    "    outputCols=['{}_imputed'.format(c) for c in ['Test_Score','Interview Score','Salary']]\n",
    ").setStrategy('mean')\n",
    "\n",
    "imputer.fit(df).transform(df).show()"
   ]
  },
  {
   "cell_type": "code",
   "execution_count": 93,
   "metadata": {},
   "outputs": [
    {
     "name": "stdout",
     "output_type": "stream",
     "text": [
      "+----------+----------+---------------+------+------------------+-----------------------+--------------+\n",
      "|Experience|Test_Score|Interview Score|Salary|Test_Score_imputed|Interview Score_imputed|Salary_imputed|\n",
      "+----------+----------+---------------+------+------------------+-----------------------+--------------+\n",
      "|      null|         8|              9| 50000|                 8|                      9|         50000|\n",
      "|      null|         8|              6| 45000|                 8|                      6|         45000|\n",
      "|      five|         6|              7| 60000|                 6|                      7|         60000|\n",
      "|       two|        10|             10| 65000|                10|                     10|         65000|\n",
      "|     seven|         9|              6| 70000|                 9|                      6|         70000|\n",
      "|     three|         7|             10| 62000|                 7|                     10|         62000|\n",
      "|       ten|      null|              7| 72000|                 8|                      7|         72000|\n",
      "|    eleven|         7|              8| 80000|                 7|                      8|         80000|\n",
      "+----------+----------+---------------+------+------------------+-----------------------+--------------+\n",
      "\n"
     ]
    }
   ],
   "source": [
    "from pyspark.ml.feature import Imputer\n",
    "\n",
    "imputer=Imputer(\n",
    "    inputCols=['Test_Score','Interview Score','Salary'],\n",
    "    outputCols=['{}_imputed'.format(c) for c in ['Test_Score','Interview Score','Salary']]\n",
    ").setStrategy('median')\n",
    "\n",
    "imputer.fit(df).transform(df).show()"
   ]
  },
  {
   "cell_type": "code",
   "execution_count": null,
   "metadata": {},
   "outputs": [],
   "source": []
  },
  {
   "cell_type": "code",
   "execution_count": null,
   "metadata": {},
   "outputs": [],
   "source": []
  }
 ],
 "metadata": {
  "kernelspec": {
   "display_name": "Python 3",
   "language": "python",
   "name": "python3"
  },
  "language_info": {
   "codemirror_mode": {
    "name": "ipython",
    "version": 3
   },
   "file_extension": ".py",
   "mimetype": "text/x-python",
   "name": "python",
   "nbconvert_exporter": "python",
   "pygments_lexer": "ipython3",
   "version": "3.7.6"
  }
 },
 "nbformat": 4,
 "nbformat_minor": 4
}
