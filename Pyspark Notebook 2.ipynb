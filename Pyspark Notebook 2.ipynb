{
 "cells": [
  {
   "cell_type": "markdown",
   "metadata": {},
   "source": [
    "# TUTORIAL 2"
   ]
  },
  {
   "cell_type": "markdown",
   "metadata": {},
   "source": [
    "## In this Notebook we would cover:"
   ]
  },
  {
   "cell_type": "markdown",
   "metadata": {},
   "source": [
    " - How to read a dataset using PySpark\n",
    " - Check the datatype of each column\n",
    " - How and select the specific columns\n",
    " - Indexing operations\n",
    " - Check describe and info - similar to pandas functionality\n",
    " - How to add a new column\n",
    " - How to drop/delete an existing column"
   ]
  },
  {
   "cell_type": "code",
   "execution_count": 1,
   "metadata": {},
   "outputs": [],
   "source": [
    " from pyspark.sql import SparkSession"
   ]
  },
  {
   "cell_type": "code",
   "execution_count": 5,
   "metadata": {},
   "outputs": [],
   "source": [
    "spark=SparkSession.builder.appName('Training').getOrCreate()"
   ]
  },
  {
   "cell_type": "code",
   "execution_count": 52,
   "metadata": {},
   "outputs": [],
   "source": [
    "#Reading the dataset\n",
    "#We are using read.option to read the first row as header, \n",
    "#otherwise we could just have used spark.read.csv('bhp.csv')\n",
    "\n",
    "df_spk=spark.read.option('header','true').csv('bhp.csv')"
   ]
  },
  {
   "cell_type": "code",
   "execution_count": 53,
   "metadata": {},
   "outputs": [
    {
     "name": "stdout",
     "output_type": "stream",
     "text": [
      "+--------------------+---------+----------+----+-----+---+--------------+\n",
      "|            location|     size|total_sqft|bath|price|bhk|price_per_sqft|\n",
      "+--------------------+---------+----------+----+-----+---+--------------+\n",
      "|Electronic City P...|    2 BHK|    1056.0| 2.0|39.07|  2|          3699|\n",
      "|    Chikka Tirupathi|4 Bedroom|    2600.0| 5.0|120.0|  4|          4615|\n",
      "|         Uttarahalli|    3 BHK|    1440.0| 2.0| 62.0|  3|          4305|\n",
      "|  Lingadheeranahalli|    3 BHK|    1521.0| 3.0| 95.0|  3|          6245|\n",
      "|            Kothanur|    2 BHK|    1200.0| 2.0| 51.0|  2|          4250|\n",
      "|          Whitefield|    2 BHK|    1170.0| 2.0| 38.0|  2|          3247|\n",
      "|    Old Airport Road|    4 BHK|    2732.0| 4.0|204.0|  4|          7467|\n",
      "|        Rajaji Nagar|    4 BHK|    3300.0| 4.0|600.0|  4|         18181|\n",
      "|        Marathahalli|    3 BHK|    1310.0| 3.0|63.25|  3|          4828|\n",
      "|               other|6 Bedroom|    1020.0| 6.0|370.0|  6|         36274|\n",
      "|          Whitefield|    3 BHK|    1800.0| 2.0| 70.0|  3|          3888|\n",
      "|          Whitefield|4 Bedroom|    2785.0| 5.0|295.0|  4|         10592|\n",
      "|  7th Phase JP Nagar|    2 BHK|    1000.0| 2.0| 38.0|  2|          3800|\n",
      "|           Gottigere|    2 BHK|    1100.0| 2.0| 40.0|  2|          3636|\n",
      "|            Sarjapur|3 Bedroom|    2250.0| 3.0|148.0|  3|          6577|\n",
      "|         Mysore Road|    2 BHK|    1175.0| 2.0| 73.5|  2|          6255|\n",
      "|       Bisuvanahalli|    3 BHK|    1180.0| 3.0| 48.0|  3|          4067|\n",
      "|Raja Rajeshwari N...|    3 BHK|    1540.0| 3.0| 60.0|  3|          3896|\n",
      "|               other|    3 BHK|    2770.0| 4.0|290.0|  3|         10469|\n",
      "|               other|    2 BHK|    1100.0| 2.0| 48.0|  2|          4363|\n",
      "+--------------------+---------+----------+----+-----+---+--------------+\n",
      "only showing top 20 rows\n",
      "\n"
     ]
    }
   ],
   "source": [
    "df_spk.show()"
   ]
  },
  {
   "cell_type": "code",
   "execution_count": 54,
   "metadata": {},
   "outputs": [
    {
     "name": "stdout",
     "output_type": "stream",
     "text": [
      "root\n",
      " |-- location: string (nullable = true)\n",
      " |-- size: string (nullable = true)\n",
      " |-- total_sqft: string (nullable = true)\n",
      " |-- bath: string (nullable = true)\n",
      " |-- price: string (nullable = true)\n",
      " |-- bhk: string (nullable = true)\n",
      " |-- price_per_sqft: string (nullable = true)\n",
      "\n"
     ]
    }
   ],
   "source": [
    "#Checking the schema\n",
    "\n",
    "df_spk.printSchema()\n",
    "\n",
    "# We can observe that all the features considered here as string since we haven't used the option to\n",
    "#infer the orginal schema and hence it's considering every other feature as in String type"
   ]
  },
  {
   "cell_type": "code",
   "execution_count": 55,
   "metadata": {},
   "outputs": [
    {
     "name": "stdout",
     "output_type": "stream",
     "text": [
      "+--------------------+---------+----------+----+-----+---+--------------+\n",
      "|            location|     size|total_sqft|bath|price|bhk|price_per_sqft|\n",
      "+--------------------+---------+----------+----+-----+---+--------------+\n",
      "|Electronic City P...|    2 BHK|    1056.0| 2.0|39.07|  2|          3699|\n",
      "|    Chikka Tirupathi|4 Bedroom|    2600.0| 5.0|120.0|  4|          4615|\n",
      "|         Uttarahalli|    3 BHK|    1440.0| 2.0| 62.0|  3|          4305|\n",
      "|  Lingadheeranahalli|    3 BHK|    1521.0| 3.0| 95.0|  3|          6245|\n",
      "|            Kothanur|    2 BHK|    1200.0| 2.0| 51.0|  2|          4250|\n",
      "|          Whitefield|    2 BHK|    1170.0| 2.0| 38.0|  2|          3247|\n",
      "|    Old Airport Road|    4 BHK|    2732.0| 4.0|204.0|  4|          7467|\n",
      "|        Rajaji Nagar|    4 BHK|    3300.0| 4.0|600.0|  4|         18181|\n",
      "|        Marathahalli|    3 BHK|    1310.0| 3.0|63.25|  3|          4828|\n",
      "|               other|6 Bedroom|    1020.0| 6.0|370.0|  6|         36274|\n",
      "|          Whitefield|    3 BHK|    1800.0| 2.0| 70.0|  3|          3888|\n",
      "|          Whitefield|4 Bedroom|    2785.0| 5.0|295.0|  4|         10592|\n",
      "|  7th Phase JP Nagar|    2 BHK|    1000.0| 2.0| 38.0|  2|          3800|\n",
      "|           Gottigere|    2 BHK|    1100.0| 2.0| 40.0|  2|          3636|\n",
      "|            Sarjapur|3 Bedroom|    2250.0| 3.0|148.0|  3|          6577|\n",
      "|         Mysore Road|    2 BHK|    1175.0| 2.0| 73.5|  2|          6255|\n",
      "|       Bisuvanahalli|    3 BHK|    1180.0| 3.0| 48.0|  3|          4067|\n",
      "|Raja Rajeshwari N...|    3 BHK|    1540.0| 3.0| 60.0|  3|          3896|\n",
      "|               other|    3 BHK|    2770.0| 4.0|290.0|  3|         10469|\n",
      "|               other|    2 BHK|    1100.0| 2.0| 48.0|  2|          4363|\n",
      "+--------------------+---------+----------+----+-----+---+--------------+\n",
      "only showing top 20 rows\n",
      "\n"
     ]
    }
   ],
   "source": [
    "#Let's use inferschema option so that our dataframe is read more accurately\n",
    "\n",
    "df_spk=spark.read.option('header','true').csv('bhp.csv',inferSchema=True)\n",
    "df_spk.show()\n"
   ]
  },
  {
   "cell_type": "code",
   "execution_count": 56,
   "metadata": {},
   "outputs": [
    {
     "name": "stdout",
     "output_type": "stream",
     "text": [
      "root\n",
      " |-- location: string (nullable = true)\n",
      " |-- size: string (nullable = true)\n",
      " |-- total_sqft: double (nullable = true)\n",
      " |-- bath: double (nullable = true)\n",
      " |-- price: double (nullable = true)\n",
      " |-- bhk: integer (nullable = true)\n",
      " |-- price_per_sqft: integer (nullable = true)\n",
      "\n"
     ]
    }
   ],
   "source": [
    "### Now we can see that datatype of columns in dataframe is read as per the values present in that column\n",
    "df_spk.printSchema()"
   ]
  },
  {
   "cell_type": "markdown",
   "metadata": {},
   "source": [
    "## Easy Way for reading the dataset"
   ]
  },
  {
   "cell_type": "code",
   "execution_count": 57,
   "metadata": {},
   "outputs": [
    {
     "name": "stdout",
     "output_type": "stream",
     "text": [
      "+--------------------+---------+----------+----+-----+---+--------------+\n",
      "|            location|     size|total_sqft|bath|price|bhk|price_per_sqft|\n",
      "+--------------------+---------+----------+----+-----+---+--------------+\n",
      "|Electronic City P...|    2 BHK|    1056.0| 2.0|39.07|  2|          3699|\n",
      "|    Chikka Tirupathi|4 Bedroom|    2600.0| 5.0|120.0|  4|          4615|\n",
      "|         Uttarahalli|    3 BHK|    1440.0| 2.0| 62.0|  3|          4305|\n",
      "|  Lingadheeranahalli|    3 BHK|    1521.0| 3.0| 95.0|  3|          6245|\n",
      "|            Kothanur|    2 BHK|    1200.0| 2.0| 51.0|  2|          4250|\n",
      "|          Whitefield|    2 BHK|    1170.0| 2.0| 38.0|  2|          3247|\n",
      "|    Old Airport Road|    4 BHK|    2732.0| 4.0|204.0|  4|          7467|\n",
      "|        Rajaji Nagar|    4 BHK|    3300.0| 4.0|600.0|  4|         18181|\n",
      "|        Marathahalli|    3 BHK|    1310.0| 3.0|63.25|  3|          4828|\n",
      "|               other|6 Bedroom|    1020.0| 6.0|370.0|  6|         36274|\n",
      "|          Whitefield|    3 BHK|    1800.0| 2.0| 70.0|  3|          3888|\n",
      "|          Whitefield|4 Bedroom|    2785.0| 5.0|295.0|  4|         10592|\n",
      "|  7th Phase JP Nagar|    2 BHK|    1000.0| 2.0| 38.0|  2|          3800|\n",
      "|           Gottigere|    2 BHK|    1100.0| 2.0| 40.0|  2|          3636|\n",
      "|            Sarjapur|3 Bedroom|    2250.0| 3.0|148.0|  3|          6577|\n",
      "|         Mysore Road|    2 BHK|    1175.0| 2.0| 73.5|  2|          6255|\n",
      "|       Bisuvanahalli|    3 BHK|    1180.0| 3.0| 48.0|  3|          4067|\n",
      "|Raja Rajeshwari N...|    3 BHK|    1540.0| 3.0| 60.0|  3|          3896|\n",
      "|               other|    3 BHK|    2770.0| 4.0|290.0|  3|         10469|\n",
      "|               other|    2 BHK|    1100.0| 2.0| 48.0|  2|          4363|\n",
      "+--------------------+---------+----------+----+-----+---+--------------+\n",
      "only showing top 20 rows\n",
      "\n"
     ]
    }
   ],
   "source": [
    "df_spk=spark.read.csv('bhp.csv', header=True, inferSchema=True)\n",
    "df_spk.show()"
   ]
  },
  {
   "cell_type": "code",
   "execution_count": 58,
   "metadata": {},
   "outputs": [
    {
     "data": {
      "text/plain": [
       "['location', 'size', 'total_sqft', 'bath', 'price', 'bhk', 'price_per_sqft']"
      ]
     },
     "execution_count": 58,
     "metadata": {},
     "output_type": "execute_result"
    }
   ],
   "source": [
    "#Know all the columns\n",
    "df_spk.columns"
   ]
  },
  {
   "cell_type": "code",
   "execution_count": 59,
   "metadata": {},
   "outputs": [
    {
     "name": "stdout",
     "output_type": "stream",
     "text": [
      "+--------------------+\n",
      "|            location|\n",
      "+--------------------+\n",
      "|Electronic City P...|\n",
      "|    Chikka Tirupathi|\n",
      "|         Uttarahalli|\n",
      "|  Lingadheeranahalli|\n",
      "|            Kothanur|\n",
      "|          Whitefield|\n",
      "|    Old Airport Road|\n",
      "|        Rajaji Nagar|\n",
      "|        Marathahalli|\n",
      "|               other|\n",
      "|          Whitefield|\n",
      "|          Whitefield|\n",
      "|  7th Phase JP Nagar|\n",
      "|           Gottigere|\n",
      "|            Sarjapur|\n",
      "|         Mysore Road|\n",
      "|       Bisuvanahalli|\n",
      "|Raja Rajeshwari N...|\n",
      "|               other|\n",
      "|               other|\n",
      "+--------------------+\n",
      "only showing top 20 rows\n",
      "\n"
     ]
    }
   ],
   "source": [
    "#selecting a single column and displaying it\n",
    "\n",
    "df_spk.select('location').show()"
   ]
  },
  {
   "cell_type": "code",
   "execution_count": 60,
   "metadata": {},
   "outputs": [
    {
     "name": "stdout",
     "output_type": "stream",
     "text": [
      "+--------------------+--------------+\n",
      "|            location|price_per_sqft|\n",
      "+--------------------+--------------+\n",
      "|Electronic City P...|          3699|\n",
      "|    Chikka Tirupathi|          4615|\n",
      "|         Uttarahalli|          4305|\n",
      "|  Lingadheeranahalli|          6245|\n",
      "|            Kothanur|          4250|\n",
      "|          Whitefield|          3247|\n",
      "|    Old Airport Road|          7467|\n",
      "|        Rajaji Nagar|         18181|\n",
      "|        Marathahalli|          4828|\n",
      "|               other|         36274|\n",
      "|          Whitefield|          3888|\n",
      "|          Whitefield|         10592|\n",
      "|  7th Phase JP Nagar|          3800|\n",
      "|           Gottigere|          3636|\n",
      "|            Sarjapur|          6577|\n",
      "|         Mysore Road|          6255|\n",
      "|       Bisuvanahalli|          4067|\n",
      "|Raja Rajeshwari N...|          3896|\n",
      "|               other|         10469|\n",
      "|               other|          4363|\n",
      "+--------------------+--------------+\n",
      "only showing top 20 rows\n",
      "\n"
     ]
    }
   ],
   "source": [
    "#selecting the multiple columns and displaying it\n",
    "\n",
    "df_spk.select(['location','price_per_sqft']).show()"
   ]
  },
  {
   "cell_type": "code",
   "execution_count": 61,
   "metadata": {},
   "outputs": [
    {
     "name": "stdout",
     "output_type": "stream",
     "text": [
      "+-------+---------+------------------+------------------+------------------+------------------+-----------------+\n",
      "|summary|     size|        total_sqft|              bath|             price|               bhk|   price_per_sqft|\n",
      "+-------+---------+------------------+------------------+------------------+------------------+-----------------+\n",
      "|  count|    13200|             13200|             13200|             13200|             13200|            13200|\n",
      "|   mean|     null|1555.3027829545451|2.6911363636363634|  112.276177651515|2.8008333333333333|7920.336742424242|\n",
      "| stddev|     null|1237.3234454015146|1.3389150868179531|149.17599517809657| 1.292843421272534|106727.1603281085|\n",
      "|    min|    1 BHK|               1.0|               1.0|               8.0|                 1|              267|\n",
      "|    max|9 Bedroom|           52272.0|              40.0|            3600.0|                43|         12000000|\n",
      "+-------+---------+------------------+------------------+------------------+------------------+-----------------+\n",
      "\n"
     ]
    }
   ],
   "source": [
    "#Describe functionality of PySpark Dataframes:\n",
    "\n",
    "df_spk.describe('size', 'total_sqft', 'bath', 'price', 'bhk', 'price_per_sqft').show()"
   ]
  },
  {
   "cell_type": "markdown",
   "metadata": {},
   "source": [
    " - We can see that we are getting null in mean and stddev for column 'size', so we need to clean the data to get the correct figures"
   ]
  },
  {
   "cell_type": "code",
   "execution_count": 65,
   "metadata": {},
   "outputs": [],
   "source": [
    "#Adding a new column to our dataset (based on condition)\n",
    "from pyspark.sql import functions as f\n",
    "\n",
    "df_spk=df_spk.withColumn('Parking', f.when(f.col('bhk')>3,'Yes').otherwise('No'))"
   ]
  },
  {
   "cell_type": "code",
   "execution_count": 67,
   "metadata": {},
   "outputs": [
    {
     "name": "stdout",
     "output_type": "stream",
     "text": [
      "+--------------------+---------+----------+----+-----+---+--------------+-------+\n",
      "|            location|     size|total_sqft|bath|price|bhk|price_per_sqft|Parking|\n",
      "+--------------------+---------+----------+----+-----+---+--------------+-------+\n",
      "|Electronic City P...|    2 BHK|    1056.0| 2.0|39.07|  2|          3699|     No|\n",
      "|    Chikka Tirupathi|4 Bedroom|    2600.0| 5.0|120.0|  4|          4615|    Yes|\n",
      "|         Uttarahalli|    3 BHK|    1440.0| 2.0| 62.0|  3|          4305|     No|\n",
      "|  Lingadheeranahalli|    3 BHK|    1521.0| 3.0| 95.0|  3|          6245|     No|\n",
      "|            Kothanur|    2 BHK|    1200.0| 2.0| 51.0|  2|          4250|     No|\n",
      "|          Whitefield|    2 BHK|    1170.0| 2.0| 38.0|  2|          3247|     No|\n",
      "|    Old Airport Road|    4 BHK|    2732.0| 4.0|204.0|  4|          7467|    Yes|\n",
      "|        Rajaji Nagar|    4 BHK|    3300.0| 4.0|600.0|  4|         18181|    Yes|\n",
      "|        Marathahalli|    3 BHK|    1310.0| 3.0|63.25|  3|          4828|     No|\n",
      "|               other|6 Bedroom|    1020.0| 6.0|370.0|  6|         36274|    Yes|\n",
      "|          Whitefield|    3 BHK|    1800.0| 2.0| 70.0|  3|          3888|     No|\n",
      "|          Whitefield|4 Bedroom|    2785.0| 5.0|295.0|  4|         10592|    Yes|\n",
      "|  7th Phase JP Nagar|    2 BHK|    1000.0| 2.0| 38.0|  2|          3800|     No|\n",
      "|           Gottigere|    2 BHK|    1100.0| 2.0| 40.0|  2|          3636|     No|\n",
      "|            Sarjapur|3 Bedroom|    2250.0| 3.0|148.0|  3|          6577|     No|\n",
      "|         Mysore Road|    2 BHK|    1175.0| 2.0| 73.5|  2|          6255|     No|\n",
      "|       Bisuvanahalli|    3 BHK|    1180.0| 3.0| 48.0|  3|          4067|     No|\n",
      "|Raja Rajeshwari N...|    3 BHK|    1540.0| 3.0| 60.0|  3|          3896|     No|\n",
      "|               other|    3 BHK|    2770.0| 4.0|290.0|  3|         10469|     No|\n",
      "|               other|    2 BHK|    1100.0| 2.0| 48.0|  2|          4363|     No|\n",
      "+--------------------+---------+----------+----+-----+---+--------------+-------+\n",
      "only showing top 20 rows\n",
      "\n"
     ]
    }
   ],
   "source": [
    "df_spk.show()"
   ]
  },
  {
   "cell_type": "code",
   "execution_count": 71,
   "metadata": {},
   "outputs": [],
   "source": [
    "#Dropping the columns from the dataframe\n",
    "\n",
    "df_spk=df_spk.drop('Parking')"
   ]
  },
  {
   "cell_type": "code",
   "execution_count": 72,
   "metadata": {},
   "outputs": [
    {
     "name": "stdout",
     "output_type": "stream",
     "text": [
      "+--------------------+---------+----------+----+-----+---+--------------+\n",
      "|            location|     size|total_sqft|bath|price|bhk|price_per_sqft|\n",
      "+--------------------+---------+----------+----+-----+---+--------------+\n",
      "|Electronic City P...|    2 BHK|    1056.0| 2.0|39.07|  2|          3699|\n",
      "|    Chikka Tirupathi|4 Bedroom|    2600.0| 5.0|120.0|  4|          4615|\n",
      "|         Uttarahalli|    3 BHK|    1440.0| 2.0| 62.0|  3|          4305|\n",
      "|  Lingadheeranahalli|    3 BHK|    1521.0| 3.0| 95.0|  3|          6245|\n",
      "|            Kothanur|    2 BHK|    1200.0| 2.0| 51.0|  2|          4250|\n",
      "|          Whitefield|    2 BHK|    1170.0| 2.0| 38.0|  2|          3247|\n",
      "|    Old Airport Road|    4 BHK|    2732.0| 4.0|204.0|  4|          7467|\n",
      "|        Rajaji Nagar|    4 BHK|    3300.0| 4.0|600.0|  4|         18181|\n",
      "|        Marathahalli|    3 BHK|    1310.0| 3.0|63.25|  3|          4828|\n",
      "|               other|6 Bedroom|    1020.0| 6.0|370.0|  6|         36274|\n",
      "|          Whitefield|    3 BHK|    1800.0| 2.0| 70.0|  3|          3888|\n",
      "|          Whitefield|4 Bedroom|    2785.0| 5.0|295.0|  4|         10592|\n",
      "|  7th Phase JP Nagar|    2 BHK|    1000.0| 2.0| 38.0|  2|          3800|\n",
      "|           Gottigere|    2 BHK|    1100.0| 2.0| 40.0|  2|          3636|\n",
      "|            Sarjapur|3 Bedroom|    2250.0| 3.0|148.0|  3|          6577|\n",
      "|         Mysore Road|    2 BHK|    1175.0| 2.0| 73.5|  2|          6255|\n",
      "|       Bisuvanahalli|    3 BHK|    1180.0| 3.0| 48.0|  3|          4067|\n",
      "|Raja Rajeshwari N...|    3 BHK|    1540.0| 3.0| 60.0|  3|          3896|\n",
      "|               other|    3 BHK|    2770.0| 4.0|290.0|  3|         10469|\n",
      "|               other|    2 BHK|    1100.0| 2.0| 48.0|  2|          4363|\n",
      "+--------------------+---------+----------+----+-----+---+--------------+\n",
      "only showing top 20 rows\n",
      "\n"
     ]
    }
   ],
   "source": [
    "df_spk.show()"
   ]
  },
  {
   "cell_type": "code",
   "execution_count": 77,
   "metadata": {},
   "outputs": [],
   "source": [
    "#Renaming the columns:\n",
    "\n",
    "df_spk=df_spk.withColumnRenamed('size','Number of Rooms')"
   ]
  },
  {
   "cell_type": "code",
   "execution_count": 79,
   "metadata": {},
   "outputs": [
    {
     "name": "stdout",
     "output_type": "stream",
     "text": [
      "+--------------------+---------------+----------+----+-----+---+--------------+\n",
      "|            location|Number of Rooms|total_sqft|bath|price|bhk|price_per_sqft|\n",
      "+--------------------+---------------+----------+----+-----+---+--------------+\n",
      "|Electronic City P...|          2 BHK|    1056.0| 2.0|39.07|  2|          3699|\n",
      "|    Chikka Tirupathi|      4 Bedroom|    2600.0| 5.0|120.0|  4|          4615|\n",
      "|         Uttarahalli|          3 BHK|    1440.0| 2.0| 62.0|  3|          4305|\n",
      "|  Lingadheeranahalli|          3 BHK|    1521.0| 3.0| 95.0|  3|          6245|\n",
      "|            Kothanur|          2 BHK|    1200.0| 2.0| 51.0|  2|          4250|\n",
      "|          Whitefield|          2 BHK|    1170.0| 2.0| 38.0|  2|          3247|\n",
      "|    Old Airport Road|          4 BHK|    2732.0| 4.0|204.0|  4|          7467|\n",
      "|        Rajaji Nagar|          4 BHK|    3300.0| 4.0|600.0|  4|         18181|\n",
      "|        Marathahalli|          3 BHK|    1310.0| 3.0|63.25|  3|          4828|\n",
      "|               other|      6 Bedroom|    1020.0| 6.0|370.0|  6|         36274|\n",
      "|          Whitefield|          3 BHK|    1800.0| 2.0| 70.0|  3|          3888|\n",
      "|          Whitefield|      4 Bedroom|    2785.0| 5.0|295.0|  4|         10592|\n",
      "|  7th Phase JP Nagar|          2 BHK|    1000.0| 2.0| 38.0|  2|          3800|\n",
      "|           Gottigere|          2 BHK|    1100.0| 2.0| 40.0|  2|          3636|\n",
      "|            Sarjapur|      3 Bedroom|    2250.0| 3.0|148.0|  3|          6577|\n",
      "|         Mysore Road|          2 BHK|    1175.0| 2.0| 73.5|  2|          6255|\n",
      "|       Bisuvanahalli|          3 BHK|    1180.0| 3.0| 48.0|  3|          4067|\n",
      "|Raja Rajeshwari N...|          3 BHK|    1540.0| 3.0| 60.0|  3|          3896|\n",
      "|               other|          3 BHK|    2770.0| 4.0|290.0|  3|         10469|\n",
      "|               other|          2 BHK|    1100.0| 2.0| 48.0|  2|          4363|\n",
      "+--------------------+---------------+----------+----+-----+---+--------------+\n",
      "only showing top 20 rows\n",
      "\n"
     ]
    }
   ],
   "source": [
    "df_spk.show()"
   ]
  },
  {
   "cell_type": "code",
   "execution_count": null,
   "metadata": {},
   "outputs": [],
   "source": []
  }
 ],
 "metadata": {
  "kernelspec": {
   "display_name": "Python 3",
   "language": "python",
   "name": "python3"
  },
  "language_info": {
   "codemirror_mode": {
    "name": "ipython",
    "version": 3
   },
   "file_extension": ".py",
   "mimetype": "text/x-python",
   "name": "python",
   "nbconvert_exporter": "python",
   "pygments_lexer": "ipython3",
   "version": "3.7.6"
  }
 },
 "nbformat": 4,
 "nbformat_minor": 4
}
